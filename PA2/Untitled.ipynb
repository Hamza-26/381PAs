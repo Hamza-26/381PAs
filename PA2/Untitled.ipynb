{
 "cells": [
  {
   "cell_type": "code",
   "execution_count": 1,
   "id": "6d695ee8",
   "metadata": {},
   "outputs": [
    {
     "name": "stdout",
     "output_type": "stream",
     "text": [
      "{'A': (0, 200), 'B': (1250, 600), 'D': (1300, 550), 'H': (500, 850), 'J': (100, 450), 'T': (0, 1300), 'R': (950, 500), 'Y': (50, 750)}\n"
     ]
    }
   ],
   "source": [
    "# __name__ = '__main__'\n",
    "if True:\n",
    "    from problem import *\n",
    "    from search_algorithms import *\n",
    "    import matplotlib.pyplot as plt\n",
    "    # constrained route problem example\n",
    "    example_map_edges = { ('R', 'D'): 410,\n",
    "                        ('R', 'H'): 620,\n",
    "                        ('R', 'J'): 950,\n",
    "                        ('R', 'A'): 950,\n",
    "                        ('D', 'B'): 110,\n",
    "                        ('H', 'B'): 940,\n",
    "                        ('H', 'T'): 680,\n",
    "                        ('B', 'T'): 1600,\n",
    "                        ('J', 'A'): 680,\n",
    "                        ('J', 'Y'): 330,\n",
    "                        ('Y', 'T'): 680\n",
    "                        }\n",
    "\n",
    "    example_coords = {'A': (0,200),\n",
    "                      'B': (1250,600), \n",
    "                      'D': (1300,550),\n",
    "                      'H': (500,850),\n",
    "                      'J': (100,450),\n",
    "                      'T': (0,1300),\n",
    "                      'R': (950,500),\n",
    "                      'Y': (50,750)\n",
    "                      }\n",
    "\n",
    "    example_must_visit = ['R', 'H', 'T', 'Y']\n",
    "\n",
    "\n",
    "    example_route_problem = ConstrainedRouteProblem(initial_agent_loc='D', goal_loc='J', \n",
    "                                                     map_edges=example_map_edges, \n",
    "                                                     map_coords=example_coords, \n",
    "                                                     must_visit =example_must_visit)\n",
    "\n",
    "    goal_node = breadth_first_search(example_route_problem)\n",
    "    visualize_route_problem_solution(example_route_problem, goal_node, './route.png')    \n",
    "    plt.close()\n",
    "    \n",
    "    # grid problem with monsters example\n",
    "    example_monster_coords = [(5,2), (3,3), (1,2)] \n",
    "\n",
    "    example_food_coords = [(5,4), (3,2), (1,3)]\n",
    "\n",
    "    example_grid_problem = GridProblemWithMonsters(initial_agent_loc=(4,5), \n",
    "                                                    N=5, \n",
    "                                                    monster_coords=example_monster_coords,\n",
    "                                                    food_coords=example_food_coords)\n",
    "\n",
    "    goal_node = breadth_first_search(example_grid_problem)\n",
    "    visualize_grid_problem_solution(example_grid_problem, goal_node, './grid.png')\n",
    "    plt.close()"
   ]
  }
 ],
 "metadata": {
  "kernelspec": {
   "display_name": "Python 3 (ipykernel)",
   "language": "python",
   "name": "python3"
  },
  "language_info": {
   "codemirror_mode": {
    "name": "ipython",
    "version": 3
   },
   "file_extension": ".py",
   "mimetype": "text/x-python",
   "name": "python",
   "nbconvert_exporter": "python",
   "pygments_lexer": "ipython3",
   "version": "3.9.7"
  }
 },
 "nbformat": 4,
 "nbformat_minor": 5
}
